{
 "cells": [
  {
   "cell_type": "code",
   "execution_count": 1,
   "metadata": {},
   "outputs": [],
   "source": [
    "from equation_tree import EquationTree\n",
    "import numpy as np\n",
    "import random\n",
    "\n",
    "from equation_tree.sample import sample\n",
    "from equation_tree.tree import instantiate_constants\n",
    "import copy\n",
    "\n",
    "from equation_tree.prior import prior_from_space, structure_prior_from_depth, structure_prior_from_max_depth"
   ]
  },
  {
   "cell_type": "code",
   "execution_count": 2,
   "metadata": {},
   "outputs": [],
   "source": [
    "MAX_DEPTH = 7\n",
    "DEFAULT_PRIOR_STRUCTURES = structure_prior_from_max_depth(MAX_DEPTH)\n",
    "DEFAULT_PRIOR_FUNCTIONS = prior_from_space(\n",
    "    [\"sin\", \"cos\", \"tan\", \"exp\", \"log\", \"sqrt\", \"abs\"]\n",
    ")\n",
    "DEFAULT_PRIOR_OPERATORS = prior_from_space([\"+\", \"-\", \"*\", \"/\", \"^\"])\n"
   ]
  },
  {
   "cell_type": "code",
   "execution_count": 3,
   "metadata": {},
   "outputs": [],
   "source": [
    "prior = {\n",
    "    \"structures\": DEFAULT_PRIOR_STRUCTURES,\n",
    "    \"functions\": DEFAULT_PRIOR_FUNCTIONS,\n",
    "    \"operators\": DEFAULT_PRIOR_OPERATORS,\n",
    "    \"features\": {\"variables\": 0.7, \"constants\": 0.3},\n",
    "}"
   ]
  },
  {
   "cell_type": "code",
   "execution_count": 7,
   "metadata": {},
   "outputs": [
    {
     "name": "stderr",
     "output_type": "stream",
     "text": [
      "Processing: 100%|██████████| 5/5 [00:00<00:00, 56.70iteration/s]\n"
     ]
    },
    {
     "name": "stdout",
     "output_type": "stream",
     "text": [
      "log(x_2) + cos(x_1)\n",
      "log(x_2) + cos(x_1)\n"
     ]
    },
    {
     "ename": "FileExistsError",
     "evalue": "[Errno 17] File exists: 'datasets'",
     "output_type": "error",
     "traceback": [
      "\u001b[0;31m---------------------------------------------------------------------------\u001b[0m",
      "\u001b[0;31mFileExistsError\u001b[0m                           Traceback (most recent call last)",
      "Cell \u001b[0;32mIn[7], line 9\u001b[0m\n\u001b[1;32m      7\u001b[0m t_instantiated \u001b[38;5;241m=\u001b[39m instantiate_constants(t, \u001b[38;5;28;01mlambda\u001b[39;00m: random\u001b[38;5;241m.\u001b[39mrandom())\n\u001b[1;32m      8\u001b[0m \u001b[38;5;28mprint\u001b[39m(t_instantiated\u001b[38;5;241m.\u001b[39msympy_expr)\n\u001b[0;32m----> 9\u001b[0m \u001b[43mEquationTree\u001b[49m\u001b[38;5;241;43m.\u001b[39;49m\u001b[43mexport_to_srbench\u001b[49m\u001b[43m(\u001b[49m\u001b[43mt_instantiated\u001b[49m\u001b[43m,\u001b[49m\u001b[43m \u001b[49m\u001b[38;5;124;43m\"\u001b[39;49m\u001b[38;5;124;43mdatasets\u001b[39;49m\u001b[38;5;124;43m\"\u001b[39;49m\u001b[43m)\u001b[49m\n",
      "File \u001b[0;32m~/anaconda/srbench/lib/python3.10/site-packages/equation_tree/tree.py:750\u001b[0m, in \u001b[0;36mEquationTree.export_to_srbench\u001b[0;34m(self, folder, num_samples, name_target, ranges, default_range, random_state)\u001b[0m\n\u001b[1;32m    738\u001b[0m \u001b[39mdef\u001b[39;00m \u001b[39mexport_to_srbench\u001b[39m(\u001b[39mself\u001b[39m,\n\u001b[1;32m    739\u001b[0m                       folder: \u001b[39mstr\u001b[39m,\n\u001b[1;32m    740\u001b[0m                       num_samples: \u001b[39mint\u001b[39m \u001b[39m=\u001b[39m \u001b[39m1000\u001b[39m,\n\u001b[0;32m   (...)\u001b[0m\n\u001b[1;32m    744\u001b[0m                       random_state: Optional[\u001b[39mint\u001b[39m] \u001b[39m=\u001b[39m \u001b[39mNone\u001b[39;00m,\n\u001b[1;32m    745\u001b[0m                       ):\n\u001b[1;32m    746\u001b[0m \u001b[39m    \u001b[39m\u001b[39m\"\"\"\u001b[39;00m\n\u001b[1;32m    747\u001b[0m \u001b[39m    Creates a folder and adds data and metadata to the folder that can be used with sr bench:\u001b[39;00m\n\u001b[1;32m    748\u001b[0m \u001b[39m    https://cavalab.org/srbench/\u001b[39;00m\n\u001b[1;32m    749\u001b[0m \u001b[39m    \"\"\"\u001b[39;00m\n\u001b[0;32m--> 750\u001b[0m     os\u001b[39m.\u001b[39;49mmkdir(folder)\n\u001b[1;32m    751\u001b[0m     path_data \u001b[39m=\u001b[39m \u001b[39mf\u001b[39m\u001b[39m\"\u001b[39m\u001b[39m{\u001b[39;00mfolder\u001b[39m}\u001b[39;00m\u001b[39m/data.tsv.gz\u001b[39m\u001b[39m\"\u001b[39m\n\u001b[1;32m    752\u001b[0m     path_meta \u001b[39m=\u001b[39m \u001b[39mf\u001b[39m\u001b[39m\"\u001b[39m\u001b[39m{\u001b[39;00mfolder\u001b[39m}\u001b[39;00m\u001b[39m/metadata.yaml\u001b[39m\u001b[39m\"\u001b[39m\n",
      "\u001b[0;31mFileExistsError\u001b[0m: [Errno 17] File exists: 'datasets'"
     ]
    }
   ],
   "source": [
    "np.random.seed(42)\n",
    "n = 5\n",
    "for i in range(n):\n",
    "    t = sample(n, prior, 1000)[i]\n",
    "\n",
    "    print(t.sympy_expr)\n",
    "    t_instantiated = instantiate_constants(t, lambda: random.random())\n",
    "    print(t_instantiated.sympy_expr)\n",
    "    EquationTree.export_to_srbench(t_instantiated, \"test \" + str(i))"
   ]
  },
  {
   "cell_type": "code",
   "execution_count": 5,
   "metadata": {},
   "outputs": [
    {
     "name": "stderr",
     "output_type": "stream",
     "text": [
      "/users/imarine1/anaconda/srbench/lib/python3.10/site-packages/pandas/core/arraylike.py:396: RuntimeWarning: invalid value encountered in log\n",
      "  result = getattr(ufunc, method)(*inputs, **kwargs)\n",
      "/users/imarine1/anaconda/srbench/lib/python3.10/site-packages/pandas/core/arraylike.py:396: RuntimeWarning: invalid value encountered in log\n",
      "  result = getattr(ufunc, method)(*inputs, **kwargs)\n"
     ]
    }
   ],
   "source": [
    "EquationTree.export_to_srbench(t_instantiated, \"datasets\")\n"
   ]
  }
 ],
 "metadata": {
  "kernelspec": {
   "display_name": "Python 3.10.12",
   "language": "python",
   "name": "python3"
  },
  "language_info": {
   "codemirror_mode": {
    "name": "ipython",
    "version": 3
   },
   "file_extension": ".py",
   "mimetype": "text/x-python",
   "name": "python",
   "nbconvert_exporter": "python",
   "pygments_lexer": "ipython3",
   "version": "3.10.12"
  },
  "orig_nbformat": 4,
  "vscode": {
   "interpreter": {
    "hash": "dc71324dac7ea105ead0a5aa8706f0e68e9a2c91c8d6cacac9ab7dcd24edca51"
   }
  }
 },
 "nbformat": 4,
 "nbformat_minor": 2
}
